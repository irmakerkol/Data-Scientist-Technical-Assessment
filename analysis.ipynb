{
 "cells": [
  {
   "cell_type": "markdown",
   "id": "1b15c274",
   "metadata": {},
   "source": [
    "### Getting Started\n",
    "Import requirements, set style for plots, and connect to DB"
   ]
  },
  {
   "cell_type": "code",
   "execution_count": null,
   "id": "c6ab1764",
   "metadata": {},
   "outputs": [],
   "source": [
    "# Install requirements to the env\n",
    "#!pip install -r requirements.txt\n",
    "\n",
    "# Imports\n",
    "import sqlite3\n",
    "import pandas as pd\n",
    "import numpy as np\n",
    "import matplotlib.pyplot as plt\n",
    "import seaborn as sns\n",
    "from datetime import datetime\n",
    "from dateutil.relativedelta import relativedelta\n",
    "from sklearn.model_selection import train_test_split\n",
    "from sklearn.ensemble import RandomForestClassifier\n",
    "from sklearn.preprocessing import OneHotEncoder\n",
    "from sklearn.metrics import accuracy_score, precision_score, recall_score, f1_score, confusion_matrix\n",
    "from sklearn.pipeline import Pipeline\n",
    "\n",
    "# Set the style for our plots\n",
    "plt.style.use('seaborn-v0_8-whitegrid')\n",
    "\n",
    "# Connect to the SQLite database\n",
    "conn = sqlite3.connect('papcorns.sqlite')\n"
   ]
  },
  {
   "cell_type": "markdown",
   "id": "bed5a2c9",
   "metadata": {},
   "source": [
    "### Helper Functions\n",
    "\n",
    "run_query: Executes SQL query and return results as DataFrame\n",
    "check_unique_years: Checks unique years and date range in a dataframe's datetime column"
   ]
  },
  {
   "cell_type": "code",
   "execution_count": 151,
   "id": "47eaf9e0",
   "metadata": {},
   "outputs": [],
   "source": [
    "# Execute SQL queries\n",
    "def run_query(query):\n",
    "    \"\"\"Execute SQL query and return results as DataFrame\"\"\"\n",
    "    return pd.read_sql_query(query, conn)\n",
    "\n",
    "# Check Unique Years and Date Range\n",
    "def check_unique_years(dataframe, date_column='created_at'):\n",
    "    '''Check unique years and date range in a dataframe's datetime column.'''\n",
    "    # Make sure the date column is in datetime format\n",
    "    if not pd.api.types.is_datetime64_any_dtype(dataframe[date_column]):\n",
    "        print(f\"Converting {date_column} to datetime...\")\n",
    "        dataframe[date_column] = pd.to_datetime(dataframe[date_column])\n",
    "    \n",
    "    # Check unique years in the data\n",
    "    years = dataframe[date_column].dt.year.unique()\n",
    "    print(f\"\\nUnique years in data: {sorted(years)}\")\n",
    "    \n",
    "    # Get min and max dates\n",
    "    min_date = dataframe[date_column].min()\n",
    "    max_date = dataframe[date_column].max()\n",
    "    \n",
    "    print(f\"Date range: {min_date} to {max_date}\")\n",
    "    \n",
    "    return years, min_date, max_date"
   ]
  },
  {
   "cell_type": "markdown",
   "id": "1b1a4ba3",
   "metadata": {},
   "source": [
    "### Database Exploration\n",
    "We started by exploring the database structure to understand the data better, checking for missing values, and examining value distributions."
   ]
  },
  {
   "cell_type": "code",
   "execution_count": 152,
   "id": "80120fc0",
   "metadata": {},
   "outputs": [
    {
     "name": "stdout",
     "output_type": "stream",
     "text": [
      "--------------------------------USERS---------------------------------------\n",
      "<class 'pandas.core.frame.DataFrame'>\n",
      "RangeIndex: 1002 entries, 0 to 1001\n",
      "Data columns (total 5 columns):\n",
      " #   Column              Non-Null Count  Dtype \n",
      "---  ------              --------------  ----- \n",
      " 0   id                  1002 non-null   int64 \n",
      " 1   created_at          1002 non-null   object\n",
      " 2   attribution_source  1002 non-null   object\n",
      " 3   country             1002 non-null   object\n",
      " 4   name                1002 non-null   object\n",
      "dtypes: int64(1), object(4)\n",
      "memory usage: 39.3+ KB\n",
      "None\n",
      "   id           created_at attribution_source country          name\n",
      "0   1  2024-05-07T00:00:00          instagram      US     Eve Brown\n",
      "1   2  2024-10-12T00:00:00          instagram      NL   Frank Moore\n",
      "2   3  2024-10-15T00:00:00             tiktok      TR  Ivy Anderson\n",
      "3   4  2024-08-28T00:00:00             tiktok      TR   Alice Brown\n",
      "4   5  2024-04-03T00:00:00            organic      NL     Bob Moore\n",
      "\n",
      "Missing values in users_df:\n",
      "id                    0\n",
      "created_at            0\n",
      "attribution_source    0\n",
      "country               0\n",
      "name                  0\n",
      "dtype: int64\n",
      "\n",
      "Unique attribution sources: ['instagram' 'tiktok' 'organic']\n",
      "Unique countries: ['US' 'NL' 'TR']\n",
      "---------------------------USER EVENTS---------------------------------------\n",
      "<class 'pandas.core.frame.DataFrame'>\n",
      "RangeIndex: 3486 entries, 0 to 3485\n",
      "Data columns (total 5 columns):\n",
      " #   Column      Non-Null Count  Dtype  \n",
      "---  ------      --------------  -----  \n",
      " 0   id          3486 non-null   int64  \n",
      " 1   created_at  3486 non-null   object \n",
      " 2   user_id     3486 non-null   int64  \n",
      " 3   event_name  3486 non-null   object \n",
      " 4   amount_usd  1231 non-null   float64\n",
      "dtypes: float64(1), int64(2), object(2)\n",
      "memory usage: 136.3+ KB\n",
      "None\n",
      "   id           created_at  user_id       event_name  amount_usd\n",
      "0   1  2024-05-07T00:00:00        1      app_install         NaN\n",
      "1   2  2024-05-12T00:00:00        1    trial_started         NaN\n",
      "2   3  2024-05-24T00:00:00        1  trial_cancelled         NaN\n",
      "3   4  2024-10-12T00:00:00        2      app_install         NaN\n",
      "4   5  2024-10-13T00:00:00        2    trial_started         NaN\n",
      "\n",
      "Missing values in events_df:\n",
      "id               0\n",
      "created_at       0\n",
      "user_id          0\n",
      "event_name       0\n",
      "amount_usd    2255\n",
      "dtype: int64\n",
      "Unique event names: ['app_install' 'trial_started' 'trial_cancelled' 'subscription_started'\n",
      " 'subscription_renewed' 'subscription_cancelled']\n",
      "Converting created_at to datetime...\n",
      "\n",
      "Unique years in data: [np.int32(2024), np.int32(2025)]\n",
      "Date range: 2024-01-01 00:00:00 to 2025-02-16 00:00:00\n",
      "Converting created_at to datetime...\n",
      "\n",
      "Unique years in data: [np.int32(2024), np.int32(2025)]\n",
      "Date range: 2024-01-01 00:00:00 to 2025-07-12 00:00:00\n"
     ]
    },
    {
     "data": {
      "text/plain": [
       "(array([2024, 2025], dtype=int32),\n",
       " Timestamp('2024-01-01 00:00:00'),\n",
       " Timestamp('2025-07-12 00:00:00'))"
      ]
     },
     "execution_count": 152,
     "metadata": {},
     "output_type": "execute_result"
    }
   ],
   "source": [
    "# Load Tables as DataFrames\n",
    "users_df = run_query(\"SELECT * FROM users\")\n",
    "events_df = run_query(\"SELECT * FROM user_events\")\n",
    "\n",
    "# Display basic information about the tables\n",
    "print(\"--------------------------------USERS---------------------------------------\")\n",
    "print(users_df.info())\n",
    "print(users_df.head())\n",
    "print(\"\\nMissing values in users_df:\")\n",
    "print(users_df.isnull().sum())\n",
    "print(\"\\nUnique attribution sources:\", users_df['attribution_source'].unique())\n",
    "print(\"Unique countries:\", users_df['country'].unique())\n",
    "\n",
    "print(\"---------------------------USER EVENTS---------------------------------------\")\n",
    "print(events_df.info())\n",
    "print(events_df.head())\n",
    "print(\"\\nMissing values in events_df:\")\n",
    "print(events_df.isnull().sum())\n",
    "print(\"Unique event names:\", events_df['event_name'].unique())\n",
    "\n",
    "# Check temporal distribution\n",
    "check_unique_years(users_df)\n",
    "check_unique_years(events_df)"
   ]
  },
  {
   "cell_type": "markdown",
   "id": "071a9584",
   "metadata": {},
   "source": [
    "#### Users Data Analysis:\n",
    "\n",
    "User Volume: The database contains 1,002 users.\n",
    "\n",
    "User Demographics: Users come from 3 countries (US, NL, TR) and 3 attribution sources (instagram, tiktok, organic).\n",
    "\n",
    "Temporal Distribution: User data spans from January 2024 to February 2025, with a date range of 2024-01-01 to 2025-02-16.\n",
    "\n",
    "Data Structure: Most columns are stored as object type, with 'id' as int64. The 'created_at' column requires datetime conversion.\n",
    "\n",
    "Completeness: No NULL values detected in the users table.\n",
    "\n",
    "#### User Events Analysis:\n",
    "\n",
    "Event Volume: 3,486 events are recorded in the database.\n",
    "\n",
    "Event Types: Six distinct event types capturing the full user journey (app_install, trial_started, trial_cancelled, subscription_started, subscription_renewed, subscription_cancelled).\n",
    "\n",
    "Missing Values: 2,255 missing values in the 'amount_usd' column (64.7% of events).\n",
    "\n",
    "Temporal Range: Event data spans from January 2024 to July 2025, with a date range of 2024-01-01 to 2025-07-12, extending beyond the user creation date range.\n",
    "\n",
    "Data Types: Two integer columns (id, user_id), two object columns (created_at, event_name), and one float column (amount_usd)."
   ]
  },
  {
   "cell_type": "markdown",
   "id": "28f20c2d",
   "metadata": {},
   "source": [
    "### Data Validation and Cleaning"
   ]
  },
  {
   "cell_type": "code",
   "execution_count": 153,
   "id": "b5c37867",
   "metadata": {},
   "outputs": [
    {
     "name": "stdout",
     "output_type": "stream",
     "text": [
      "Empty strings in attribution_source: 0\n",
      "Empty strings in country: 0\n",
      "Empty strings in name: 0\n",
      "\n",
      "Event types with missing amount_usd values:\n",
      "event_name\n",
      "app_install               1002\n",
      "trial_started              682\n",
      "subscription_cancelled     370\n",
      "trial_cancelled            201\n",
      "Name: count, dtype: int64\n",
      "\n",
      "Expected missing amount_usd values (non-transactional events): 2255\n",
      "Unexpected missing amount_usd values (transactional events): 0\n"
     ]
    }
   ],
   "source": [
    "# Convert timestamp strings to datetime objects\n",
    "users_df['created_at'] = pd.to_datetime(users_df['created_at'])\n",
    "events_df['created_at'] = pd.to_datetime(events_df['created_at'])\n",
    "\n",
    "# Check for empty strings in text fields\n",
    "for column in ['attribution_source', 'country', 'name']:\n",
    "    empty_count = (users_df[column] == '').sum()\n",
    "    print(f\"Empty strings in {column}: {empty_count}\")\n",
    "\n",
    "# Investigate which event types have missing amount_usd values\n",
    "event_missing_amount = events_df[events_df['amount_usd'].isnull()]['event_name'].value_counts()\n",
    "print(\"\\nEvent types with missing amount_usd values:\")\n",
    "print(event_missing_amount)\n",
    "\n",
    "# Determine if missing values are expected or problematic\n",
    "non_transactional_events = ['app_install', 'trial_started', 'trial_cancelled', 'subscription_cancelled']\n",
    "expected_missing = events_df[events_df['event_name'].isin(non_transactional_events)]['amount_usd'].isnull().sum()\n",
    "unexpected_missing = events_df[~events_df['event_name'].isin(non_transactional_events)]['amount_usd'].isnull().sum()\n",
    "\n",
    "print(f\"\\nExpected missing amount_usd values (non-transactional events): {expected_missing}\")\n",
    "print(f\"Unexpected missing amount_usd values (transactional events): {unexpected_missing}\")"
   ]
  },
  {
   "cell_type": "markdown",
   "id": "2ef2ba85",
   "metadata": {},
   "source": [
    "#### Data Quality Findings:\n",
    "\n",
    "Future-Dated Records: The data spans from January 1, 2024 to July 12, 2025 for events, and from January 1, 2024 to February 16, 2025 for users. Since the data extends into 2025, this suggests this is likely test data or includes projections.\n",
    "\n",
    "Missing Values in amount_usd: All 2,255 missing values in the 'amount_usd' column are accounted for:\n",
    "\n",
    "App installs: 1,002 missing values (100% of app installs)\n",
    "Trial started: 682 missing values\n",
    "Subscription cancelled: 370 missing values\n",
    "Trial cancelled: 201 missing values\n",
    "No unexpected missing values in revenue-generating events (subscription_started, subscription_renewed)\n",
    "\n",
    "\n",
    "Empty Strings: Checked for empty strings in all categorical fields:\n",
    "\n",
    "Attribution source: 0 empty strings\n",
    "Country: 0 empty strings\n",
    "Name: 0 empty strings\n",
    "\n",
    "\n",
    "Data Completeness: These results confirm proper data completeness with missing values occurring only where expected in the amount_usd field for non-transactional events.\n",
    "\n",
    "This validation confirms the data is clean and suitable for the analysis tasks. The missing amount values are entirely expected and don't represent a data quality issue. All events that should have monetary values (subscription events) have complete data, which means our revenue calculations will be accurate."
   ]
  },
  {
   "cell_type": "markdown",
   "id": "7303f221",
   "metadata": {},
   "source": [
    "### Task 1: Calculate the total revenue generated from subscriptions for each country"
   ]
  },
  {
   "cell_type": "code",
   "execution_count": 154,
   "id": "be86f2eb",
   "metadata": {},
   "outputs": [
    {
     "name": "stdout",
     "output_type": "stream",
     "text": [
      "Total Revenue by Country\n",
      "  country  total_revenue\n",
      "0      US        4035.96\n",
      "1      NL        3335.29\n",
      "2      TR        2275.44\n"
     ]
    },
    {
     "data": {
      "image/png": "[encoded data removed]",
      "text/plain": [
       "<Figure size 600x400 with 1 Axes>"
      ]
     },
     "metadata": {},
     "output_type": "display_data"
    }
   ],
   "source": [
    "task1_query = \"\"\"\n",
    "SELECT \n",
    "    u.country,\n",
    "    SUM(e.amount_usd) as total_revenue\n",
    "FROM \n",
    "    users u\n",
    "JOIN \n",
    "    user_events e ON u.id = e.user_id\n",
    "WHERE \n",
    "    e.event_name IN ('subscription_started', 'subscription_renewed')\n",
    "GROUP BY \n",
    "    u.country\n",
    "ORDER BY \n",
    "    total_revenue DESC\n",
    "\"\"\"\n",
    "\n",
    "revenue_by_country = run_query(task1_query)\n",
    "print(\"Total Revenue by Country\")\n",
    "print(revenue_by_country)\n",
    "\n",
    "# Visualize the results\n",
    "plt.figure(figsize=(6, 4))\n",
    "sns.barplot(x='country', y='total_revenue', data=revenue_by_country)\n",
    "plt.title('Total Subscription Revenue by Country')\n",
    "plt.xlabel('Country')\n",
    "plt.ylabel('Revenue (USD)')\n",
    "\n",
    "plt.xticks(rotation=0)\n",
    "for i, row in enumerate(revenue_by_country.itertuples()):\n",
    "    plt.text(i, row.total_revenue + 5, f\"${row.total_revenue:.2f}\", ha='center')\n",
    "plt.tight_layout()\n",
    "plt.savefig('Task1_revenue_by_country.png')\n",
    "plt.show()"
   ]
  },
  {
   "cell_type": "markdown",
   "id": "b8106715",
   "metadata": {},
   "source": [
    "Analysis of Task 1 Results:\n",
    "\n",
    "The United States (US) leads with the highest total revenue at $4,035.96\n",
    "\n",
    "Netherlands (NL) is in second place with $3,335.29\n",
    "\n",
    "Turkey (TR) has the lowest total revenue at $2,275.44\n",
    "\n",
    "This distribution shows that the US generates about 42% more revenue than Turkey and about 21% more than the Netherlands. \n",
    "\n",
    "The US market is clearly the most valuable in terms of total revenue contribution"
   ]
  },
  {
   "cell_type": "markdown",
   "id": "0d37c1b1",
   "metadata": {},
   "source": [
    "### Task 2: Calculate the total number of trials given to users who came from Instagram\n"
   ]
  },
  {
   "cell_type": "code",
   "execution_count": 155,
   "id": "2c715209",
   "metadata": {},
   "outputs": [
    {
     "name": "stdout",
     "output_type": "stream",
     "text": [
      "   total_instagram_trials\n",
      "0                     210\n"
     ]
    }
   ],
   "source": [
    "task2_query = \"\"\"\n",
    "SELECT \n",
    "    COUNT(*) as total_instagram_trials\n",
    "FROM \n",
    "    users u\n",
    "JOIN \n",
    "    user_events e ON u.id = e.user_id\n",
    "WHERE \n",
    "    u.attribution_source = 'instagram' AND \n",
    "    e.event_name = 'trial_started'\n",
    "\"\"\"\n",
    "\n",
    "insta_trials = run_query(task2_query)\n",
    "print(insta_trials)"
   ]
  },
  {
   "cell_type": "markdown",
   "id": "ff0f606b",
   "metadata": {},
   "source": [
    "Total of 210 trials were given to users who came from Instagram."
   ]
  },
  {
   "cell_type": "markdown",
   "id": "756b4d83",
   "metadata": {},
   "source": [
    "### Task 3: Create a new column 'acquisition_channel' by categorizing users based on their 'attribution_source'\n"
   ]
  },
  {
   "cell_type": "code",
   "execution_count": 156,
   "id": "f2fbf3f6",
   "metadata": {},
   "outputs": [
    {
     "name": "stdout",
     "output_type": "stream",
     "text": [
      "   id            name attribution_source acquisition_channel\n",
      "0   1       Eve Brown          instagram                Paid\n",
      "1   2     Frank Moore          instagram                Paid\n",
      "2   3    Ivy Anderson             tiktok                Paid\n",
      "3   4     Alice Brown             tiktok                Paid\n",
      "4   5       Bob Moore            organic             Organic\n",
      "5   6    Frank Miller             tiktok                Paid\n",
      "6   7     Henry Moore          instagram                Paid\n",
      "7   8     Alice Moore             tiktok                Paid\n",
      "8   9  Frank Anderson            organic             Organic\n",
      "9  10  David Anderson            organic             Organic\n",
      "------------------------------------\n",
      "acquisition_channel\n",
      "Paid       658\n",
      "Organic    344\n",
      "Name: count, dtype: int64\n"
     ]
    },
    {
     "data": {
      "image/png": "[encoded data removed]",
      "text/plain": [
       "<Figure size 600x600 with 1 Axes>"
      ]
     },
     "metadata": {},
     "output_type": "display_data"
    }
   ],
   "source": [
    "# Add 'acquisition_channel' column to users_df\n",
    "users_df['acquisition_channel'] = users_df['attribution_source'].apply(\n",
    "    lambda x: 'Paid' if x in ['instagram', 'tiktok'] else 'Organic')\n",
    "print(users_df[['id', 'name', 'attribution_source', 'acquisition_channel']].head(10))\n",
    "\n",
    "# Count users in each acquisition channel\n",
    "channel_counts = users_df['acquisition_channel'].value_counts()\n",
    "print(\"------------------------------------\")\n",
    "print(channel_counts)\n",
    "\n",
    "# Create a pie chart to visualize the distribution\n",
    "plt.figure(figsize=(6, 6))\n",
    "plt.pie(channel_counts, labels=channel_counts.index, autopct='%1.1f%%', startangle=90, \n",
    "       colors=['blue', 'green'])\n",
    "plt.title('User Distribution by Acquisition Channel')\n",
    "plt.axis('equal')  # Equal aspect ratio ensures that pie is drawn as a circle\n",
    "plt.savefig('Task3_acquisition_channel_distribution.png')\n",
    "plt.show()"
   ]
  },
  {
   "cell_type": "markdown",
   "id": "4bad97d0",
   "metadata": {},
   "source": [
    "Users are categorized into two acquisition channels:\n",
    "\n",
    "Paid: 658 users (65.7%)\n",
    "\n",
    "Organic: 344 users (34.3%)\n",
    "\n",
    "This distribution shows that nearly two-thirds of users come through paid channels (Instagram and TikTok), while about one-third come through organic sources."
   ]
  },
  {
   "cell_type": "markdown",
   "id": "0a88c8c2",
   "metadata": {},
   "source": [
    "### Task 4: Analyze the trial-to-subscription conversion rate"
   ]
  },
  {
   "cell_type": "code",
   "execution_count": 157,
   "id": "e2215d51",
   "metadata": {},
   "outputs": [
    {
     "name": "stdout",
     "output_type": "stream",
     "text": [
      "   total_trials  converted_to_subscription  conversion_rate\n",
      "0           682                        481         0.705279\n",
      "-----------------------------------------------------------------------------\n",
      "  attribution_source  total_trials  converted_to_subscription  conversion_rate\n",
      "0            organic           236                        169         0.716102\n",
      "1          instagram           210                        149         0.709524\n",
      "2             tiktok           236                        163         0.690678\n"
     ]
    },
    {
     "data": {
      "image/png": "[encoded data removed]",
      "text/plain": [
       "<Figure size 800x500 with 1 Axes>"
      ]
     },
     "metadata": {},
     "output_type": "display_data"
    }
   ],
   "source": [
    "# 4.1 Overall conversion rate\n",
    "# We need to find users who started a trial and then check which ones started a subscription\n",
    "overall_conversion_query = \"\"\"\n",
    "WITH trials AS (\n",
    "    SELECT DISTINCT user_id\n",
    "    FROM user_events\n",
    "    WHERE event_name = 'trial_started'\n",
    "),\n",
    "subscriptions AS (\n",
    "    SELECT DISTINCT user_id\n",
    "    FROM user_events\n",
    "    WHERE event_name = 'subscription_started'\n",
    ")\n",
    "SELECT \n",
    "    COUNT(DISTINCT t.user_id) as total_trials,\n",
    "    COUNT(DISTINCT s.user_id) as converted_to_subscription,\n",
    "    CAST(COUNT(DISTINCT s.user_id) AS FLOAT) / COUNT(DISTINCT t.user_id) as conversion_rate\n",
    "FROM trials t\n",
    "LEFT JOIN subscriptions s ON t.user_id = s.user_id\n",
    "\"\"\"\n",
    "\n",
    "overall_conversion = run_query(overall_conversion_query)\n",
    "print(overall_conversion)\n",
    "print('-----------------------------------------------------------------------------')\n",
    "\n",
    "# 4.2 Conversion rate by attribution source\n",
    "conversion_by_source_query = \"\"\"\n",
    "WITH trials AS (\n",
    "    SELECT e.user_id, u.attribution_source\n",
    "    FROM user_events e\n",
    "    JOIN users u ON e.user_id = u.id\n",
    "    WHERE e.event_name = 'trial_started'\n",
    "),\n",
    "subscriptions AS (\n",
    "    SELECT user_id\n",
    "    FROM user_events\n",
    "    WHERE event_name = 'subscription_started'\n",
    ")\n",
    "SELECT \n",
    "    t.attribution_source,\n",
    "    COUNT(DISTINCT t.user_id) as total_trials,\n",
    "    COUNT(DISTINCT s.user_id) as converted_to_subscription,\n",
    "    CAST(COUNT(DISTINCT s.user_id) AS FLOAT) / COUNT(DISTINCT t.user_id) as conversion_rate\n",
    "FROM trials t\n",
    "LEFT JOIN subscriptions s ON t.user_id = s.user_id\n",
    "GROUP BY t.attribution_source\n",
    "ORDER BY conversion_rate DESC\n",
    "\"\"\"\n",
    "\n",
    "conversion_by_source = run_query(conversion_by_source_query)\n",
    "print(conversion_by_source)\n",
    "\n",
    "# Visualize conversion rates by attribution source\n",
    "plt.figure(figsize=(8, 5))\n",
    "sns.barplot(x='attribution_source', y='conversion_rate', data=conversion_by_source)\n",
    "plt.title('Trial-to-Subscription Conversion Rate by Attribution Source')\n",
    "plt.xlabel('Attribution Source')\n",
    "plt.ylabel('Conversion Rate')\n",
    "plt.savefig('Task4_conversion_rate_by_source.png')\n",
    "plt.show()"
   ]
  },
  {
   "cell_type": "markdown",
   "id": "8f45fb9b",
   "metadata": {},
   "source": [
    "Overall Conversion Rate: 481 out of 682 trials converted to subscriptions, resulting in a 70.53% overall conversion rate.\n",
    "Conversion Rate by Attribution Source:\n",
    "\n",
    "Organic: 71.61% (169 out of 236 trials converted)\n",
    "\n",
    "Instagram: 70.95% (149 out of 210 trials converted)\n",
    "\n",
    "TikTok: 69.07% (163 out of 236 trials converted)\n",
    "\n",
    "\n",
    "\n",
    "The differences in conversion rates between attribution sources are relatively small, with organic sources performing slightly better than paid channels. This suggests that users who find the service organically have a marginally higher tendency to convert to paid subscriptions."
   ]
  },
  {
   "cell_type": "markdown",
   "id": "86556a91",
   "metadata": {},
   "source": [
    "### Task 5: Calculate the median subscription duration (in months) for each country\n",
    "For this task, we need to find the duration between subscription_started and subscription_cancelled events\n"
   ]
  },
  {
   "cell_type": "code",
   "execution_count": 158,
   "id": "16d5a75a",
   "metadata": {},
   "outputs": [
    {
     "name": "stdout",
     "output_type": "stream",
     "text": [
      "  country  months_subscribed\n",
      "0      NL           2.726675\n",
      "1      TR           2.825230\n",
      "2      US           2.529566\n"
     ]
    },
    {
     "data": {
      "image/png": "[encoded data removed]",
      "text/plain": [
       "<Figure size 800x500 with 1 Axes>"
      ]
     },
     "metadata": {},
     "output_type": "display_data"
    }
   ],
   "source": [
    "\n",
    "# SQL approach to calculate subscription durations\n",
    "subscription_duration_query = \"\"\"\n",
    "WITH sub_starts AS (\n",
    "    SELECT user_id, created_at as start_date\n",
    "    FROM user_events\n",
    "    WHERE event_name = 'subscription_started'\n",
    "),\n",
    "sub_cancels AS (\n",
    "    SELECT user_id, created_at as end_date\n",
    "    FROM user_events\n",
    "    WHERE event_name = 'subscription_cancelled'\n",
    ")\n",
    "SELECT \n",
    "    u.id as user_id,\n",
    "    u.country,\n",
    "    s.start_date,\n",
    "    c.end_date,\n",
    "    JULIANDAY(COALESCE(c.end_date, CURRENT_TIMESTAMP)) - JULIANDAY(s.start_date) as days_subscribed,\n",
    "    (JULIANDAY(COALESCE(c.end_date, CURRENT_TIMESTAMP)) - JULIANDAY(s.start_date)) / 30.44 as months_subscribed\n",
    "FROM sub_starts s\n",
    "LEFT JOIN sub_cancels c ON s.user_id = c.user_id\n",
    "JOIN users u ON s.user_id = u.id\n",
    "\"\"\"\n",
    "\n",
    "subscription_durations = run_query(subscription_duration_query)\n",
    "\n",
    "# Calculate median durations by country\n",
    "median_duration_by_country = subscription_durations.groupby('country')['months_subscribed'].median().reset_index()\n",
    "print(median_duration_by_country)\n",
    "\n",
    "# Visualize median durations\n",
    "plt.figure(figsize=(8, 5))\n",
    "sns.barplot(x='country', y='months_subscribed', data=median_duration_by_country)\n",
    "plt.title('Median Subscription Duration by Country')\n",
    "plt.xlabel('Country')\n",
    "plt.ylabel('Duration (Months)')\n",
    "plt.savefig('Task5_median_duration_by_country.png')\n",
    "plt.show()"
   ]
  },
  {
   "cell_type": "markdown",
   "id": "3f41245c",
   "metadata": {},
   "source": [
    "The median subscription duration varies slightly across the three countries:\n",
    "\n",
    "Turkey (TR) has the longest median subscription duration at 2.83 months\n",
    "\n",
    "Netherlands (NL) is in the middle with 2.73 months\n",
    "\n",
    "United States (US) has the shortest median duration at 2.53 months\n",
    "\n",
    "While the US generates the highest total revenue (from Task 1), users from Turkey tend to maintain their subscriptions for a longer period. The difference between the highest and lowest median duration is only about 0.3 months (approximately 9 days), suggesting relatively consistent retention across countries."
   ]
  },
  {
   "cell_type": "markdown",
   "id": "9911cc50",
   "metadata": {},
   "source": [
    "### Task 6: Calculate the Average Lifetime Value (LTV) by country\n",
    "\n"
   ]
  },
  {
   "cell_type": "code",
   "execution_count": null,
   "id": "ab9ef3ab",
   "metadata": {},
   "outputs": [
    {
     "name": "stdout",
     "output_type": "stream",
     "text": [
      "\n",
      "-Average Lifetime Value (LTV) by Country\n",
      "  country  average_ltv\n",
      "0      US    25.068075\n",
      "1      NL    22.384497\n",
      "2      TR    13.306667\n"
     ]
    },
    {
     "data": {
      "image/png": "[encoded data removed]",
      "text/plain": [
       "<Figure size 800x500 with 1 Axes>"
      ]
     },
     "metadata": {},
     "output_type": "display_data"
    }
   ],
   "source": [
    "ltv_query = \"\"\"\n",
    "SELECT \n",
    "    u.country,\n",
    "    AVG(revenue) as average_ltv\n",
    "FROM (\n",
    "    SELECT \n",
    "        user_id,\n",
    "        SUM(amount_usd) as revenue\n",
    "    FROM \n",
    "        user_events\n",
    "    WHERE \n",
    "        event_name IN ('subscription_started', 'subscription_renewed')\n",
    "    GROUP BY \n",
    "        user_id\n",
    ") revenue\n",
    "JOIN \n",
    "    users u ON revenue.user_id = u.id\n",
    "GROUP BY \n",
    "    u.country\n",
    "ORDER BY \n",
    "    average_ltv DESC\n",
    "\"\"\"\n",
    "\n",
    "ltv_by_country = run_query(ltv_query)\n",
    "print(\"\\n-Average Lifetime Value (LTV) by Country\")\n",
    "print(ltv_by_country)\n",
    "\n",
    "# Visualize LTV by country\n",
    "plt.figure(figsize=(8,5))\n",
    "sns.barplot(x='country', y='average_ltv', data=ltv_by_country)\n",
    "plt.title('Average Lifetime Value (LTV) by Country')\n",
    "plt.xlabel('Country')\n",
    "plt.ylabel('LTV (USD)')\n",
    "plt.savefig('Task6_ltv_by_country.png')\n",
    "plt.show()"
   ]
  },
  {
   "cell_type": "markdown",
   "id": "39ace2c3",
   "metadata": {},
   "source": [
    "The Average Lifetime Value (LTV) varies significantly across countries:\n",
    "\n",
    "United States (US) has the highest average LTV at $25.07\n",
    "\n",
    "Netherlands (NL) is in the middle with an average LTV of $22.38\n",
    "\n",
    "Turkey (TR) has the lowest average LTV at $13.31\n",
    "\n",
    "This shows that US users are nearly twice as valuable ($25.07/$13.31 = 1.88 times) as Turkish users in terms of lifetime revenue.\n",
    "Remember from Task5, where Turkish users had the longest subscription duration; this new finding suggests that while Turkish users might stay subscribed longer, they likely generate less revenue per month, possibly due to different pricing tiers or promotion strategies in that market."
   ]
  }
 ],
 "metadata": {
  "kernelspec": {
   "display_name": "DSA201",
   "language": "python",
   "name": "python3"
  },
  "language_info": {
   "codemirror_mode": {
    "name": "ipython",
    "version": 3
   },
   "file_extension": ".py",
   "mimetype": "text/x-python",
   "name": "python",
   "nbconvert_exporter": "python",
   "pygments_lexer": "ipython3",
   "version": "3.12.5"
  }
 },
 "nbformat": 4,
 "nbformat_minor": 5
}
